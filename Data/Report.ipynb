{
 "cells": [
  {
   "cell_type": "code",
   "execution_count": 26,
   "metadata": {
    "id": "h0LVvvnfJsg5"
   },
   "outputs": [],
   "source": [
    "# Import pandas\n",
    "import pandas as pd"
   ]
  },
  {
   "cell_type": "code",
   "execution_count": 27,
   "metadata": {
    "id": "rv2oLRnPK36J"
   },
   "outputs": [],
   "source": [
    "# Create a DataFrame with balance.txt\n",
    "df = pd.read_csv('balance.txt', sep=' ') "
   ]
  },
  {
   "cell_type": "markdown",
   "metadata": {
    "id": "_LXpBJXZLYoh"
   },
   "source": [
    "Write the code needed to produce a report that provides the following information:\n",
    "* Compare the average income based on ethnicity. \n",
    "* On average, do married or single people have a higher balance?\n",
    "* What is the highest income in our dataset?\n",
    "* What is the lowest income in our dataset?\n",
    "* How many cards do we have recorded in our dataset? (Hint: use `sum()`)\n",
    "* How many females do we have information for vs how many males? (Hint: use `count()`For a list of all methods for computation of descriptive stats, explore the [pandas documentation](https://pandas.pydata.org/pandas-docs/stable/reference/frame.html#computations-descriptive-stats)). \n",
    "\n",
    "\n"
   ]
  },
  {
   "cell_type": "code",
   "execution_count": 28,
   "metadata": {},
   "outputs": [],
   "source": [
    "# Check if necessary columns exist before performing operations\n",
    "required_columns = {'Ethnicity', 'Income', 'Married', 'Balance', 'Cards', 'Gender'}\n",
    "if not required_columns.issubset(df.columns):\n",
    "    missing_cols = required_columns - set(df.columns)\n",
    "    raise ValueError(f\"Missing columns in dataset: {missing_cols}\")"
   ]
  },
  {
   "cell_type": "code",
   "execution_count": 29,
   "metadata": {},
   "outputs": [
    {
     "data": {
      "text/plain": [
       "Ethnicity\n",
       "African American    47.682101\n",
       "Asian               44.187833\n",
       "Caucasian           44.521945\n",
       "Name: Income, dtype: float64"
      ]
     },
     "execution_count": 29,
     "metadata": {},
     "output_type": "execute_result"
    }
   ],
   "source": [
    "# 1. Compare the average income based on ethnicity\n",
    "avg_income_by_ethnicity = df.groupby('Ethnicity')['Income'].mean()\n",
    "\"Average Income by Ethnicity:\"\n",
    "avg_income_by_ethnicity"
   ]
  },
  {
   "cell_type": "code",
   "execution_count": 31,
   "metadata": {},
   "outputs": [
    {
     "name": "stdout",
     "output_type": "stream",
     "text": [
      "\n",
      "Average Balance by Marital Status:\n",
      "Married\n",
      "No     13.493509\n",
      "Yes    13.388473\n",
      "Name: Balance, dtype: float64\n"
     ]
    }
   ],
   "source": [
    "# 2. Determine whether married or single people have a higher average balance\n",
    "avg_balance_by_marital_status = df.groupby('Married')['Balance'].mean()\n",
    "print(\"\\nAverage Balance by Marital Status:\")\n",
    "print(avg_balance_by_marital_status)"
   ]
  },
  {
   "cell_type": "code",
   "execution_count": 32,
   "metadata": {},
   "outputs": [
    {
     "name": "stdout",
     "output_type": "stream",
     "text": [
      "\n",
      "Highest Income: 186.634\n",
      "Lowest Income: 10.354\n"
     ]
    }
   ],
   "source": [
    "# 3. Find the highest and lowest income in the dataset\n",
    "highest_income = df['Income'].max()\n",
    "lowest_income = df['Income'].min()\n",
    "print(\"\\nHighest Income:\", highest_income)\n",
    "print(\"Lowest Income:\", lowest_income)"
   ]
  },
  {
   "cell_type": "code",
   "execution_count": 33,
   "metadata": {},
   "outputs": [
    {
     "name": "stdout",
     "output_type": "stream",
     "text": [
      "\n",
      "Total Number of Recorded Credit Cards: 1183\n"
     ]
    }
   ],
   "source": [
    "# 4. Count the total number of recorded credit cards\n",
    "total_cards = df['Cards'].sum()\n",
    "print(\"\\nTotal Number of Recorded Credit Cards:\", total_cards)"
   ]
  },
  {
   "cell_type": "code",
   "execution_count": 34,
   "metadata": {},
   "outputs": [
    {
     "name": "stdout",
     "output_type": "stream",
     "text": [
      "\n",
      "Count of Males and Females:\n",
      "Gender\n",
      "Female    207\n",
      "Male      193\n",
      "Name: count, dtype: int64\n"
     ]
    }
   ],
   "source": [
    "# 5. Count the number of males and females in the dataset\n",
    "gender_count = df['Gender'].value_counts()\n",
    "print(\"\\nCount of Males and Females:\")\n",
    "print(gender_count)"
   ]
  },
  {
   "cell_type": "code",
   "execution_count": null,
   "metadata": {},
   "outputs": [],
   "source": []
  }
 ],
 "metadata": {
  "colab": {
   "authorship_tag": "ABX9TyP5J3xG1JXUCQAkP9OLQqdU",
   "provenance": []
  },
  "kernelspec": {
   "display_name": "Python 3 (ipykernel)",
   "language": "python",
   "name": "python3"
  },
  "language_info": {
   "codemirror_mode": {
    "name": "ipython",
    "version": 3
   },
   "file_extension": ".py",
   "mimetype": "text/x-python",
   "name": "python",
   "nbconvert_exporter": "python",
   "pygments_lexer": "ipython3",
   "version": "3.12.9"
  }
 },
 "nbformat": 4,
 "nbformat_minor": 4
}
