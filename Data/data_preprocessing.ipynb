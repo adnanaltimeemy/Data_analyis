{
 "cells": [
  {
   "cell_type": "code",
   "execution_count": 1,
   "id": "f9737c41-7a8e-434e-b0a5-ac9c62316dba",
   "metadata": {},
   "outputs": [],
   "source": [
    "import pandas as pd\n",
    "\n",
    "df = pd.read_csv(\"store_income_data_task.csv\")"
   ]
  },
  {
   "cell_type": "code",
   "execution_count": 2,
   "id": "a1c6f6b7-76b7-4a5b-85b2-cd121d094d5d",
   "metadata": {
    "scrolled": true
   },
   "outputs": [
    {
     "name": "stdout",
     "output_type": "stream",
     "text": [
      "First five rows of the datset\n",
      "   id                   store_name         store_email  department  \\\n",
      "0   1   Cullen/Frost Bankers, Inc.                 NaN    Clothing   \n",
      "1   2          Nordson Corporation                 NaN       Tools   \n",
      "2   3        Stag Industrial, Inc.                 NaN      Beauty   \n",
      "3   4          FIRST REPUBLIC BANK  ecanadine3@fc2.com  Automotive   \n",
      "4   5  Mercantile Bank Corporation                 NaN        Baby   \n",
      "\n",
      "         income date_measured          country  \n",
      "0  $54438554.24      4-2-2006   United States/  \n",
      "1  $41744177.01      4-1-2006          Britain  \n",
      "2  $36152340.34     12-9-2003    United States  \n",
      "3   $8928350.04      8-5-2006         Britain/  \n",
      "4  $33552742.32     21-1-1973   United Kingdom  \n"
     ]
    }
   ],
   "source": [
    "print(\"First five rows of the datset\")\n",
    "print(df.head())"
   ]
  },
  {
   "cell_type": "code",
   "execution_count": 3,
   "id": "33947035-e8aa-4c1c-8d4f-082e1fbbb84e",
   "metadata": {},
   "outputs": [],
   "source": [
    "missing_values =df.isna().sum()"
   ]
  },
  {
   "cell_type": "code",
   "execution_count": 4,
   "id": "47d9c8e4-e1c4-4623-a2e5-4c3c39f6c9b3",
   "metadata": {},
   "outputs": [
    {
     "name": "stdout",
     "output_type": "stream",
     "text": [
      "\n",
      "Number of missing values per column:\n",
      "id                 0\n",
      "store_name         0\n",
      "store_email      587\n",
      "department        27\n",
      "income             0\n",
      "date_measured      0\n",
      "country           35\n",
      "dtype: int64\n",
      "\n",
      "Percentage of missing values per column:\n",
      "id                0.0\n",
      "store_name        0.0\n",
      "store_email      58.7\n",
      "department        2.7\n",
      "income            0.0\n",
      "date_measured     0.0\n",
      "country           3.5\n",
      "dtype: float64\n"
     ]
    }
   ],
   "source": [
    "print(\"\\nNumber of missing values per column:\")\n",
    "print(missing_values)\n",
    "\n",
    "print(\"\\nPercentage of missing values per column:\")\n",
    "\n",
    "percentage_missing_values =(df.isnull().mean() * 100).round(2)\n",
    "print(percentage_missing_values)"
   ]
  },
  {
   "cell_type": "markdown",
   "id": "6af3d5f4-6efe-4f00-b640-9d71f6dd0756",
   "metadata": {},
   "source": [
    "1. store_email\n",
    "\t•\tMissingness: 58.7%\n",
    "\t•\tMany stores may not use email, or data entry skipped this optional field.\n",
    "\t•\tType: MAR (Missing At Random)\n",
    " Because missingness might depend on observed variables like department or income level.\n",
    "\n",
    "2. department\n",
    "\t•\tMissingness: 2.7%\n",
    "\t•\tWhy? Possibly due to input errors or new/undefined store types.\n",
    "\t•\tType: MCAR (Missing Completely At Random)\n",
    "Small, seemingly random missing percentage with no strong link to other variables.\n",
    "\n",
    "3. country\n",
    "\t•\tMissingness: 3.5 %\n",
    "\t•\tWhy? Could be due to the column being dropped or never collected.\n",
    "\t•\tType: MNAR (Missing Not At Random)\n",
    " If country was deliberately excluded due to its sensitivity or relevance.\n"
   ]
  },
  {
   "cell_type": "markdown",
   "id": "28cd59b0-ef93-40c4-9534-dbf3338211ea",
   "metadata": {},
   "source": [
    "Task 2"
   ]
  },
  {
   "cell_type": "code",
   "execution_count": 5,
   "id": "30b70374-68fe-4d90-a55b-43f949a212cd",
   "metadata": {},
   "outputs": [],
   "source": [
    "import pandas as pd\n",
    "from sklearn.preprocessing import MinMaxScaler, StandardScaler\n",
    "import matplotlib.pyplot as plt\n"
   ]
  },
  {
   "cell_type": "code",
   "execution_count": 6,
   "id": "fb4a3105-870d-4f4b-8344-1f233f0919f1",
   "metadata": {},
   "outputs": [],
   "source": [
    "task2_data = pd.DataFrame({\n",
    "    'study_hours': [0.5, 1, 1.5, 2, 2.5, 5, 6, 7, 8, 9],  # Skewed distribution\n",
    "    'jumping_jacks': [30, 40, 45, 50, 55, 60, 65, 70, 80, 85],\n",
    "    'pushups': [5, 8, 7, 10, 9, 10, 12, 11, 15, 14]\n",
    "})"
   ]
  },
  {
   "cell_type": "code",
   "execution_count": 7,
   "id": "a6106770-481e-4d54-b594-497a8547f194",
   "metadata": {},
   "outputs": [
    {
     "name": "stdout",
     "output_type": "stream",
     "text": [
      "   study_hours  jumping_jacks  pushups  study_hours_normalised\n",
      "0          0.5             30        5                0.000000\n",
      "1          1.0             40        8                0.058824\n",
      "2          1.5             45        7                0.117647\n",
      "3          2.0             50       10                0.176471\n",
      "4          2.5             55        9                0.235294\n",
      "5          5.0             60       10                0.529412\n",
      "6          6.0             65       12                0.647059\n",
      "7          7.0             70       11                0.764706\n",
      "8          8.0             80       15                0.882353\n",
      "9          9.0             85       14                1.000000\n",
      "   study_hours  jumping_jacks  pushups  study_hours_normalised  \\\n",
      "0          0.5             30        5                0.000000   \n",
      "1          1.0             40        8                0.058824   \n",
      "2          1.5             45        7                0.117647   \n",
      "3          2.0             50       10                0.176471   \n",
      "4          2.5             55        9                0.235294   \n",
      "5          5.0             60       10                0.529412   \n",
      "6          6.0             65       12                0.647059   \n",
      "7          7.0             70       11                0.764706   \n",
      "8          8.0             80       15                0.882353   \n",
      "9          9.0             85       14                1.000000   \n",
      "\n",
      "   jumping_jacks_standardised  pushups_standardised  \n",
      "0                   -1.685402             -1.750315  \n",
      "1                   -1.083473             -0.720718  \n",
      "2                   -0.782508             -1.063917  \n",
      "3                   -0.481543             -0.034320  \n",
      "4                   -0.180579             -0.377519  \n",
      "5                    0.120386             -0.034320  \n",
      "6                    0.421350              0.652078  \n",
      "7                    0.722315              0.308879  \n",
      "8                    1.324244              1.681676  \n",
      "9                    1.625209              1.338477  \n"
     ]
    }
   ],
   "source": [
    "# Step 3: Apply Normalisation to 'study_hours'\n",
    "normaliser = MinMaxScaler()\n",
    "task2_data['study_hours_normalised'] = normaliser.fit_transform(task2_data[['study_hours']])\n",
    "print(task2_data)\n",
    "\n",
    "# Step 4: Apply Standardisation to 'jumping_jacks' and 'pushups'\n",
    "standardiser = StandardScaler()\n",
    "task2_data[['jumping_jacks_standardised', 'pushups_standardised']] = standardiser.fit_transform(\n",
    "    task2_data[['jumping_jacks', 'pushups']]\n",
    ")\n",
    "\n",
    "# Step 5: Display the processed DataFrame\n",
    "print(task2_data)\n"
   ]
  },
  {
   "cell_type": "code",
   "execution_count": 8,
   "id": "d7a4fde7-6bee-45fe-b7df-f335f9ce0975",
   "metadata": {},
   "outputs": [],
   "source": [
    "# Step 2: Reading the countries dataset\n",
    "countries_df = pd.read_csv(\"countries.csv\")"
   ]
  },
  {
   "cell_type": "code",
   "execution_count": 9,
   "id": "6919061b-2db8-414a-b885-e2d5e5b5445f",
   "metadata": {},
   "outputs": [
    {
     "data": {
      "image/png": "[encoded data removed]",
      "text/plain": [
       "<Figure size 800x400 with 1 Axes>"
      ]
     },
     "metadata": {},
     "output_type": "display_data"
    }
   ],
   "source": [
    "# Step 3: Visualise the 'EG.ELC.ACCS.ZS' column with a histogram\n",
    "plt.figure(figsize=(8, 4))\n",
    "plt.hist(countries_df[\"EG.ELC.ACCS.ZS\"].dropna(), bins=20, edgecolor='black')\n",
    "plt.title(\"Access to Electricity (% of Population)\")\n",
    "plt.xlabel(\"EG.ELC.ACCS.ZS\")\n",
    "plt.ylabel(\"Frequency\")\n",
    "plt.grid(True)\n",
    "plt.tight_layout()\n",
    "plt.show()"
   ]
  },
  {
   "cell_type": "code",
   "execution_count": 10,
   "id": "aa0fcc15-323b-406b-89e7-a5eec9f1fe92",
   "metadata": {},
   "outputs": [
    {
     "name": "stdout",
     "output_type": "stream",
     "text": [
      "Skewness: -0.8836596584527003\n"
     ]
    },
    {
     "data": {
      "image/png": "[encoded data removed]",
      "text/plain": [
       "<Figure size 1400x500 with 2 Axes>"
      ]
     },
     "metadata": {},
     "output_type": "display_data"
    },
    {
     "name": "stdout",
     "output_type": "stream",
     "text": [
      "Scaling method used: Standardised\n"
     ]
    }
   ],
   "source": [
    "# Step 4: Check skewness to determine scaling method\n",
    "skewness = countries_df[\"EG.ELC.ACCS.ZS\"].skew()\n",
    "print(f\"Skewness: {skewness}\")\n",
    "\n",
    "# Step 5: Choose scaler based on skewness\n",
    "if abs(skewness) > 1:\n",
    "    scaler = MinMaxScaler()\n",
    "    scale_type = \"Normalised\"\n",
    "else:\n",
    "    scaler = StandardScaler()\n",
    "    scale_type = \"Standardised\"\n",
    "\n",
    "# Step 6: Apply scaling, drop NaNs \n",
    "access_values = countries_df[[\"EG.ELC.ACCS.ZS\"]].dropna()\n",
    "scaled_values = scaler.fit_transform(access_values)\n",
    "\n",
    "# Step 7: Plot original and scaled data\n",
    "fig, axes = plt.subplots(1, 2, figsize=(14, 5))\n",
    "\n",
    "# Original data histogram\n",
    "axes[0].hist(access_values[\"EG.ELC.ACCS.ZS\"], bins=20, edgecolor='black')\n",
    "axes[0].set_title(\"Original: EG.ELC.ACCS.ZS\")\n",
    "axes[0].set_xlabel(\"Value\")\n",
    "axes[0].set_ylabel(\"Frequency\")\n",
    "\n",
    "# Scaled data histogram\n",
    "axes[1].hist(scaled_values, bins=20, edgecolor='black')\n",
    "axes[1].set_title(f\"{scale_type} EG.ELC.ACCS.ZS\")\n",
    "axes[1].set_xlabel(\"Value\")\n",
    "axes[1].set_ylabel(\"Frequency\")\n",
    "\n",
    "plt.tight_layout()\n",
    "plt.show()\n",
    "\n",
    "# Step 8: Output the scale type used\n",
    "print(\"Scaling method used:\", scale_type)"
   ]
  },
  {
   "cell_type": "code",
   "execution_count": null,
   "id": "55730c4e-cd9a-47ac-8cce-52b7a0ab4127",
   "metadata": {},
   "outputs": [],
   "source": []
  }
 ],
 "metadata": {
  "kernelspec": {
   "display_name": "Python 3 (ipykernel)",
   "language": "python",
   "name": "python3"
  },
  "language_info": {
   "codemirror_mode": {
    "name": "ipython",
    "version": 3
   },
   "file_extension": ".py",
   "mimetype": "text/x-python",
   "name": "python",
   "nbconvert_exporter": "python",
   "pygments_lexer": "ipython3",
   "version": "3.12.9"
  }
 },
 "nbformat": 4,
 "nbformat_minor": 5
}
